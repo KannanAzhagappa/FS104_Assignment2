{
 "cells": [
  {
   "cell_type": "markdown",
   "metadata": {},
   "source": [
    "# Exercises"
   ]
  },
  {
   "cell_type": "markdown",
   "metadata": {},
   "source": [
    "## Question 1"
   ]
  },
  {
   "cell_type": "markdown",
   "metadata": {},
   "source": [
    "**Predict the Output.**"
   ]
  },
  {
   "cell_type": "code",
   "execution_count": 1,
   "metadata": {},
   "outputs": [
    {
     "output_type": "stream",
     "name": "stdout",
     "text": [
      "hello\nhello\nhello\nhello\nhello\n"
     ]
    }
   ],
   "source": [
    "for i in [1, 2, 3, 4, 5]:\n",
    "    print (\"hello\")"
   ]
  },
  {
   "cell_type": "code",
   "execution_count": null,
   "metadata": {},
   "outputs": [],
   "source": [
    "#The loop will iterate through the list declared which contains 5 integers from 1 to 5 (both inclusive)\n",
    "#Thus, the print statement will be evaluated 5 times. So the output will be like below:\n",
    "#hello\n",
    "#hello\n",
    "#hello\n",
    "#hello\n",
    "#hello"
   ]
  },
  {
   "cell_type": "markdown",
   "metadata": {},
   "source": [
    "## Question 2"
   ]
  },
  {
   "cell_type": "markdown",
   "metadata": {},
   "source": [
    "**Predict the Output.**"
   ]
  },
  {
   "cell_type": "code",
   "execution_count": 2,
   "metadata": {},
   "outputs": [
    {
     "output_type": "stream",
     "name": "stdout",
     "text": [
      "1\n2\n3\n4\n5\n"
     ]
    }
   ],
   "source": [
    "for i in [1, 2, 3, 4, 5]:\n",
    "    print (i)"
   ]
  },
  {
   "cell_type": "code",
   "execution_count": null,
   "metadata": {},
   "outputs": [],
   "source": [
    "#The loop will iterate through the list declared which contains 5 integers from 1 to 5 (both inclusive)\n",
    "#Thus, the print statement will be evaluated 5 times and print all the elements one by one. So the output will be like below:\n",
    "#1\n",
    "#2\n",
    "#3\n",
    "#4\n",
    "#5"
   ]
  },
  {
   "cell_type": "markdown",
   "metadata": {},
   "source": [
    "## Question 3"
   ]
  },
  {
   "cell_type": "markdown",
   "metadata": {},
   "source": [
    "**Predict the Output.**"
   ]
  },
  {
   "cell_type": "code",
   "execution_count": null,
   "metadata": {},
   "outputs": [],
   "source": [
    "for looper in [1, 2, 3, 4, 5]:\n",
    "    print (looper, \"times 8 =\", looper * 8)"
   ]
  },
  {
   "cell_type": "code",
   "execution_count": null,
   "metadata": {},
   "outputs": [],
   "source": [
    "#The loop will iterate through the list declared which contains 5 integers from 1 to 5 (both inclusive)\n",
    "#Thus, the print statement will be evaluated 5 times and print all the elements one by one and also its respective multiplication of 8 times for each elements. So the output will be like below:\n",
    "#1 times 8 = 8\n",
    "#2 times 8 = 16\n",
    "#3 times 8 = 24\n",
    "#4 times 8 = 32\n",
    "#5 times 8 = 40\n",
    "\n",
    "#Thus, the above looks like the 8 multiplication table but just the first 5 elements"
   ]
  },
  {
   "cell_type": "markdown",
   "metadata": {},
   "source": [
    "## Question 4"
   ]
  },
  {
   "cell_type": "markdown",
   "metadata": {},
   "source": [
    "**Predict the Output.**"
   ]
  },
  {
   "cell_type": "code",
   "execution_count": 3,
   "metadata": {
    "scrolled": true
   },
   "outputs": [
    {
     "output_type": "stream",
     "name": "stdout",
     "text": [
      "5\n",
      "4\n",
      "3\n",
      "2\n",
      "1\n",
      "BLAST OFF!\n"
     ]
    }
   ],
   "source": [
    "import time\n",
    "for i in range (5, 0, -1):         #Counts backward. \n",
    "                                     #Range ([start], [stop], [ step])\n",
    "                                    #start: Starting number of the sequence.\n",
    "                                    #stop: Generate numbers up to, but not including this number.\n",
    "                                    #step: Difference between each number in the sequence.\n",
    "    print (i)\n",
    "    time.sleep(1)                   #Waits one second\n",
    "print (\"BLAST OFF!\")"
   ]
  },
  {
   "cell_type": "code",
   "execution_count": null,
   "metadata": {},
   "outputs": [],
   "source": [
    "#The above code is a stimulation of the counter down timer and an action gets triggered after the timer is completed\n",
    "#And the range start from 5 and end at 1 as 0 is not included\n",
    "#So the possible values of i are 5,4,3,2,1 and for each of them the print statement is evalualted and prints the value of i\n",
    "#And there will be a delay in between each print statement to have a timer effect\n",
    "#And also there will be a print statement to mention \"BLAST OFF!\" to show that an action gets triggered after the count down\n",
    "\n",
    "#Thus, the output will look like below:\n",
    "#5\n",
    "#4\n",
    "#3\n",
    "#2\n",
    "#1\n",
    "#BLAST OFF!"
   ]
  },
  {
   "cell_type": "markdown",
   "metadata": {},
   "source": [
    "## Question 5"
   ]
  },
  {
   "cell_type": "markdown",
   "metadata": {},
   "source": [
    "**Predict the Output.**"
   ]
  },
  {
   "cell_type": "code",
   "execution_count": null,
   "metadata": {
    "scrolled": true
   },
   "outputs": [],
   "source": [
    "for i in range(1, 6, 2):\n",
    "    print ('Hi, Warren')"
   ]
  },
  {
   "cell_type": "code",
   "execution_count": 4,
   "metadata": {},
   "outputs": [],
   "source": [
    "#The possible values of i are 1, 3 and 5 (6 is not inclusive and thus the next increment is also not in the range for this step defined)\n",
    "#Thus, there are only three values possible for i\n",
    "#Thus, the print statement is evaluated three times. So the output of the code is shown below:\n",
    "\n",
    "#Hi, Warren\n",
    "#Hi, Warren\n",
    "#Hi, Warren"
   ]
  },
  {
   "cell_type": "markdown",
   "metadata": {},
   "source": [
    "## Question 6"
   ]
  },
  {
   "cell_type": "markdown",
   "metadata": {},
   "source": [
    "**Fill in the blank such that program prints \"Hello! How are you\" 5 times but 3rd time it prints only \"Hello!\"**"
   ]
  },
  {
   "cell_type": "code",
   "execution_count": 5,
   "metadata": {},
   "outputs": [
    {
     "output_type": "stream",
     "name": "stdout",
     "text": [
      "i = 0\nHello! How are you\ni = 1\nHello! How are you\ni = 2\nHello! \ni = 3\nHello! How are you\ni = 4\nHello! How are you\ni = 5\nHello! How are you\n"
     ]
    }
   ],
   "source": [
    "\n",
    "for i in range (6):\n",
    "    print ('i =', i) \n",
    "    print ('Hello!', end = \" \")   # Note: end = '' appends space instead of new line\n",
    "    if i == 2: \n",
    "        print()\n",
    "        continue \n",
    "    print ('How are you')"
   ]
  },
  {
   "cell_type": "code",
   "execution_count": null,
   "metadata": {},
   "outputs": [],
   "source": [
    "#The possible values for i are 1,2,3,4 and 5\n",
    "#Thus, the 3rd time of print statement corresponds to i value of 2\n",
    "\n",
    "#Hence, the code will be like below:\n",
    "#for i in range (6):\n",
    "    #print ('i =', i) \n",
    "    #print ('Hello!', end = \" \")   # Note: end = '' appends space instead of new line\n",
    "    #if i == 2: \n",
    "        #print()\n",
    "        #continue \n",
    "    #print ('How are you')\n",
    "\n",
    "#And the output will be like below:\n",
    "#i = 0\n",
    "#Hello! How are you\n",
    "#i = 1\n",
    "#Hello! How are you\n",
    "#i = 2\n",
    "#Hello! \n",
    "#i = 3\n",
    "#Hello! How are you\n",
    "#i = 4\n",
    "#Hello! How are you\n",
    "#i = 5\n",
    "#Hello! How are you"
   ]
  },
  {
   "cell_type": "markdown",
   "metadata": {},
   "source": [
    "## Question 7"
   ]
  },
  {
   "cell_type": "markdown",
   "metadata": {},
   "source": [
    "11. What does the following for loop output?\n"
   ]
  },
  {
   "cell_type": "code",
   "execution_count": 8,
   "metadata": {
    "scrolled": true
   },
   "outputs": [
    {
     "output_type": "stream",
     "name": "stdout",
     "text": [
      "30\n20\n40\n"
     ]
    }
   ],
   "source": [
    "nums = [10, 30, 20, 40]\n",
    "\n",
    "for k in range(1, 4):    # range(1,4) refers to [1,2,3]   --> k = 1, k = 2, k = 3\n",
    "    print(nums[k])       # print nums[1], nums[2], nums[3]"
   ]
  },
  {
   "cell_type": "markdown",
   "metadata": {},
   "source": [
    "   \n",
    "            (a) 10 (b) 30 (c) 10\n",
    "                30     20     30\n",
    "                20     40     20\n",
    "                              40    "
   ]
  },
  {
   "cell_type": "code",
   "execution_count": 7,
   "metadata": {},
   "outputs": [],
   "source": [
    "#The possible values of k are 1,2 and 3\n",
    "#The possible positions of nums are 0,1,2 and 3 {As the length of the list is 4}\n",
    "#Thus, nums[1],nums[2],nums[3] will be printed\n",
    "#So the output will be like below:\n",
    "\n",
    "#30\n",
    "#20\n",
    "#40\n",
    "\n",
    "#Thus, the correct answer is Option B"
   ]
  },
  {
   "cell_type": "markdown",
   "metadata": {},
   "source": [
    "## Question 8"
   ]
  },
  {
   "cell_type": "markdown",
   "metadata": {},
   "source": [
    "**Write a python program to 1) ask the user the length of password and 2) generate a password randomly of given length.**"
   ]
  },
  {
   "cell_type": "markdown",
   "metadata": {},
   "source": [
    "**Step 1 import library \"random\"**"
   ]
  },
  {
   "cell_type": "code",
   "execution_count": null,
   "metadata": {},
   "outputs": [],
   "source": [
    "#import library random\n",
    "import random\n",
    "random.choice('ri39fk')"
   ]
  },
  {
   "cell_type": "markdown",
   "metadata": {},
   "source": [
    "**Combine random alphabets,numbers and special characters, and store it in a variable called password.**"
   ]
  },
  {
   "cell_type": "code",
   "execution_count": null,
   "metadata": {},
   "outputs": [],
   "source": [
    "chars = 'abcdefghijklmnopqrstuvwxyz1234567890!@#$%^&*.'\n",
    "password = ''\n",
    "\n",
    "# Take input from user.\n",
    "\n",
    "# generate for loop\n"
   ]
  },
  {
   "cell_type": "code",
   "execution_count": 11,
   "metadata": {},
   "outputs": [
    {
     "output_type": "stream",
     "name": "stdout",
     "text": [
      "The randomly generated password of length 9 characters is %qzgievfc\n"
     ]
    }
   ],
   "source": [
    "import random\n",
    "chars = 'abcdefghijklmnopqrstuvwxyz1234567890!@#$%^&*.'\n",
    "\n",
    "def get_password_length():\n",
    "    input_length = input(\"How long do you want your password to be\")\n",
    "    return int(input_length)\n",
    "\n",
    "def generate_random_password(length):\n",
    "    password = ''\n",
    "    generated_pasword = password.join((random.choice(chars) for i in range(length)))\n",
    "    print(\"The randomly generated password of length\",length,\"characters is\",generated_pasword )\n",
    "\n",
    "length = get_password_length()\n",
    "generate_random_password(length)\n",
    "\n"
   ]
  },
  {
   "cell_type": "markdown",
   "metadata": {},
   "source": [
    "## Question 10 "
   ]
  },
  {
   "cell_type": "markdown",
   "metadata": {},
   "source": [
    "**What is the output of this code if input my_input = 0? What is the output if my_input=5?**"
   ]
  },
  {
   "cell_type": "code",
   "execution_count": 12,
   "metadata": {},
   "outputs": [
    {
     "output_type": "stream",
     "name": "stdout",
     "text": [
      "looping\n",
      "looping\n",
      "looping\n",
      "thank you\n"
     ]
    }
   ],
   "source": [
    "a = 1\n",
    "\n",
    "while a <= 3:\n",
    "    my_input = int (input (\"enter a no: \"))\n",
    "    if my_input == 0:\n",
    "        print (\"your input is 0\")\n",
    "        break\n",
    "    a+=1\n",
    "    print (\"looping\")\n",
    "\n",
    "print('thank you')\n",
    "\n"
   ]
  },
  {
   "cell_type": "code",
   "execution_count": null,
   "metadata": {},
   "outputs": [],
   "source": [
    "#When the my_input is 0, the break statement inside if condition will be executed to break outside of the while loop after the print statement to say what is the value of input entered\n",
    "\n",
    "#Thus, the output will be\n",
    "#your input is 0\n",
    "#thank you\n",
    "\n",
    "#When the my_input is 5, the if statement won't be executed and the print statement in while loop executes and ask for the user to input again as the variable a is still less than or equal to 3\n",
    "#After user inputs, the print statement in while loop executes and ask for the user to input again as the variable a is still less than or equal to 3\n",
    "#After user inputs, the print statement in while loop executes and the while loop ends & thus wont ask for the user to input again as the variable is now greater than 3\n",
    "#After that it will be outside of the while loop and prints the statement\n",
    "\n",
    "#Thus, the output will be\n",
    "#looping\n",
    "#looping\n",
    "#looping\n",
    "#thank you"
   ]
  },
  {
   "cell_type": "markdown",
   "metadata": {},
   "source": [
    "## Question 11"
   ]
  },
  {
   "cell_type": "markdown",
   "metadata": {},
   "source": [
    "**Write a Python program to count the elements in a list before it first hits a tuple.**"
   ]
  },
  {
   "cell_type": "code",
   "execution_count": 13,
   "metadata": {},
   "outputs": [
    {
     "output_type": "stream",
     "name": "stdout",
     "text": [
      "2\n"
     ]
    }
   ],
   "source": [
    "number = [10,20,(1,2),40]\n",
    "\n",
    "counter = 0\n",
    "\n",
    "for i in number:\n",
    "    if type(i) == tuple:\n",
    "        break\n",
    "    else:\n",
    "        counter += 1\n",
    "\n",
    "print(counter)"
   ]
  },
  {
   "cell_type": "markdown",
   "metadata": {},
   "source": [
    "## Question 12 - a revisit!"
   ]
  },
  {
   "cell_type": "markdown",
   "metadata": {},
   "source": [
    "A king played chess with his subject and his subject won. He asked the subject what he wanted in return. <br> \n",
    "The subject, being clever, asked for one grain of wheat on the first square, two grains of wheat on the second square, four grains of wheat on the third square, and so forth, doubling the amount on each next square. \n",
    "\n",
    "**Calculate how much wheat the last square would be in kg. There are 64 squares in a chess board. A grain of wheat weighs approximately $1/7,000$ of a kg.**"
   ]
  },
  {
   "cell_type": "code",
   "execution_count": 1,
   "metadata": {},
   "outputs": [
    {
     "name": "stdout",
     "output_type": "stream",
     "text": [
      "Total grain weight in kg:  1317624576693539.5\n"
     ]
    }
   ],
   "source": [
    "# first square = 1         --> 2**0\n",
    "# second square = 2        --> 2**1\n",
    "# third square = 2*2 = 4   --> 2**2\n",
    "# fourth square = 2*2*2 = 8 --> 2**3 .......\n",
    "\n",
    "total_grains=2**63\n",
    "total_weight =total_grains/7000\n",
    "print (\"Total grain weight in kg: \", total_weight)\n"
   ]
  },
  {
   "cell_type": "markdown",
   "metadata": {},
   "source": [
    "**Now, using your knowledge in loops how do you calculate total grains?**"
   ]
  },
  {
   "cell_type": "code",
   "execution_count": 16,
   "metadata": {},
   "outputs": [
    {
     "output_type": "stream",
     "name": "stdout",
     "text": [
      "Total number of grains in 64 squares is 18446744073709551615\nTotal weight of grains in 64 squares is 2635249153387079.0\n"
     ]
    }
   ],
   "source": [
    "total_grains = 0\n",
    "\n",
    "for i in range(64):\n",
    "    total_grains += 2**i\n",
    "\n",
    "total_weight = float(total_grains/7000)\n",
    "print(\"Total number of grains in 64 squares is\",total_grains)\n",
    "print(\"Total weight of grains in 64 squares is\",total_weight)\n"
   ]
  }
 ],
 "metadata": {
  "kernelspec": {
   "name": "python3",
   "display_name": "Python 3.7.2 64-bit",
   "metadata": {
    "interpreter": {
     "hash": "8fc596f3a09f0ea550a4ac5e6f3b2e8b40f5a6ae9ff777757e619aee608e583c"
    }
   }
  },
  "language_info": {
   "codemirror_mode": {
    "name": "ipython",
    "version": 3
   },
   "file_extension": ".py",
   "mimetype": "text/x-python",
   "name": "python",
   "nbconvert_exporter": "python",
   "pygments_lexer": "ipython3",
   "version": "3.7.2-final"
  }
 },
 "nbformat": 4,
 "nbformat_minor": 2
}