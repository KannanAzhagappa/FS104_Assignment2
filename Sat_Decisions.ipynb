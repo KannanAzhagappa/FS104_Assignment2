{
 "cells": [
  {
   "cell_type": "markdown",
   "metadata": {},
   "source": [
    "# Exercises"
   ]
  },
  {
   "cell_type": "markdown",
   "metadata": {},
   "source": [
    "## Question 1"
   ]
  },
  {
   "cell_type": "markdown",
   "metadata": {},
   "source": [
    "**Write a program that takes input of number from user and checks whether number is positive or negative.**"
   ]
  },
  {
   "cell_type": "code",
   "execution_count": 3,
   "metadata": {},
   "outputs": [
    {
     "output_type": "stream",
     "name": "stdout",
     "text": [
      "You have entered the number 9\nThe entered number 9 is positive!!!\n"
     ]
    }
   ],
   "source": [
    "def get_user_input_number():\n",
    "    user_input = int(input(\"Please Enter a number:\"))\n",
    "    print(\"You have entered the number\",user_input)\n",
    "    return user_input\n",
    "\n",
    "def validate_number(number):\n",
    "    if number:\n",
    "        if number >= 0:\n",
    "            print(\"The entered number\",number,\"is positive!!!\")\n",
    "        else:\n",
    "            print(\"The entered number\",number,\"is negative!!!\")\n",
    "\n",
    "number_entered = get_user_input_number()\n",
    "validate_number(number_entered)"
   ]
  },
  {
   "cell_type": "markdown",
   "metadata": {},
   "source": [
    "## Question 2"
   ]
  },
  {
   "cell_type": "markdown",
   "metadata": {},
   "source": [
    "**Write a program that inputs a number from user and checks whether number is even or odd.**"
   ]
  },
  {
   "cell_type": "code",
   "execution_count": 4,
   "metadata": {},
   "outputs": [
    {
     "output_type": "stream",
     "name": "stdout",
     "text": [
      "You have entered the number 6\nThe entered number 6 is even!!!\n"
     ]
    }
   ],
   "source": [
    "def get_user_input_number():\n",
    "    user_input = int(input(\"Please Enter a number:\"))\n",
    "    print(\"You have entered the number\",user_input)\n",
    "    return user_input\n",
    "\n",
    "def validate_number(number):\n",
    "    if number:\n",
    "        if number%2 == 0:\n",
    "            print(\"The entered number\",number,\"is even!!!\")\n",
    "        else:\n",
    "            print(\"The entered number\",number,\"is odd!!!\")\n",
    "\n",
    "number_entered = get_user_input_number()\n",
    "validate_number(number_entered)"
   ]
  },
  {
   "cell_type": "markdown",
   "metadata": {},
   "source": [
    "## Question 3"
   ]
  },
  {
   "cell_type": "markdown",
   "metadata": {},
   "source": [
    "**Write a program that finds greatest among three numbers. <br> And output print with \"The largest number is (output)\"**"
   ]
  },
  {
   "cell_type": "code",
   "execution_count": 6,
   "metadata": {},
   "outputs": [
    {
     "output_type": "stream",
     "name": "stdout",
     "text": [
      "You have entered the number 89\n",
      "You have entered the number 9\n",
      "You have entered the number 120\n",
      "Entered numbers are [89, 9, 120]\n",
      "Largest number among the entered number is 120\n"
     ]
    }
   ],
   "source": [
    "list = []\n",
    "\n",
    "for i in range(3):\n",
    "    user_input = user_input = int(input(\"Please Enter a number:\"))\n",
    "    print(\"You have entered the number\",user_input)\n",
    "    list.append(user_input)\n",
    "\n",
    "print(\"Entered numbers are\",list)\n",
    "\n",
    "largest_number = 0\n",
    "if len(list) > 0:\n",
    "    for number in list:\n",
    "        if number > largest_number:\n",
    "            largest_number = number\n",
    "        else:\n",
    "            largest_number = largest_number\n",
    "print(\"Largest number among the entered number is\",largest_number)\n"
   ]
  },
  {
   "cell_type": "markdown",
   "metadata": {},
   "source": [
    "## Question 4"
   ]
  },
  {
   "cell_type": "markdown",
   "metadata": {},
   "source": [
    "**You’re on a long car trip and arrive at a gas station. The next gas station is 200km away.\n",
    "Write a program to figure out if you need to buy gas here, or if you can wait for the\n",
    "next station. <br><br>\n",
    "The condition to buy gas here is if car is able to run at least 200km more <br><br>\n",
    "Ask user for input: How many litres of gas left in tank? How many km/litre is your car? <br>\n",
    "Hint: Calculate the distance your car can still run with remaining gas**\n"
   ]
  },
  {
   "cell_type": "code",
   "execution_count": 8,
   "metadata": {},
   "outputs": [
    {
     "output_type": "stream",
     "name": "stdout",
     "text": [
      "You car has sufficient gas left until next gas station!\n"
     ]
    }
   ],
   "source": [
    "car_fuel_consumption = float(input(\"Please Enter your car mileage in km/litre:\"))\n",
    "remaining_gas = float(input(\"Please Enter the gas left in your car litres:\"))\n",
    "\n",
    "distance_gas_station = 200\n",
    "\n",
    "car_can_travel = car_fuel_consumption*remaining_gas\n",
    "\n",
    "if car_can_travel > distance_gas_station:\n",
    "    print(\"You car has sufficient gas left until next gas station!\")\n",
    "else:\n",
    "    print(\"Please top up gas now at the current gas station!!!\")"
   ]
  },
  {
   "cell_type": "markdown",
   "metadata": {},
   "source": [
    "## Question 5"
   ]
  },
  {
   "cell_type": "markdown",
   "metadata": {},
   "source": [
    "**A soccer team is looking for girls from ages 10 to 12 to play on their team. Write a program to ask the user’s age and whether the user is male or female (using “m” or “f”). Display a message indicating whether the person is eligible to play on the team.\n",
    "Bonus: Make the program so that it doesn’t ask for the age unless the user is a girl.**"
   ]
  },
  {
   "cell_type": "code",
   "execution_count": 19,
   "metadata": {},
   "outputs": [
    {
     "output_type": "stream",
     "name": "stdout",
     "text": [
      "You have entered f\n",
      "You have entered you age as 13\n",
      "You are not eligible to play on the team as your age doesn't meet the requirements\n"
     ]
    }
   ],
   "source": [
    "gender_input = str(input(\"What is your gender (Key in m for male and f for female)\"))\n",
    "print(\"You have entered\",gender_input)\n",
    "\n",
    "if gender_input.lower() == \"m\":\n",
    "    print(\"Sorry we are not looking for male team member at the moment!!!Please try again later.\")\n",
    "elif gender_input.lower() == \"f\":\n",
    "    age = int(input(\"What is your age?\"))\n",
    "    print(\"You have entered you age as\",age)\n",
    "    if (age > 9) and (age < 13):\n",
    "        print(\"You are eligible to join for the trials for the team selection!!!Please come for the trials!\")\n",
    "    else:\n",
    "        print(\"You are not eligible to play on the team as your age doesn't meet the requirements\")\n",
    "else:\n",
    "    print(\"Your input is not valid!!!\")"
   ]
  },
  {
   "cell_type": "markdown",
   "metadata": {},
   "source": [
    "## Question 6"
   ]
  },
  {
   "cell_type": "markdown",
   "metadata": {},
   "source": [
    "**Write a program that prompts the user to enter a weight in kilograms and height in metres and then displays the BMI as well as below interpreations.** \n",
    "\n",
    "**If BMI is Below $18.5$, it is interpreted as Underweight. <br>\n",
    "If BMI is from $18.5–24.9$, it is interpreted as Normal. <br>\n",
    "If BMI is from $25.0–29.9$, it is interpreted as Overweight. <br>\n",
    "else If BMI is Above $30.0$, it is interpreted as Obese.**\n"
   ]
  },
  {
   "cell_type": "code",
   "execution_count": 25,
   "metadata": {},
   "outputs": [
    {
     "output_type": "stream",
     "name": "stdout",
     "text": [
      "Your entered weight in kilograms is 70.0\nYour entered height in metres is 1.2\nYour calculated BMI is 48.611111111111114\nYour BMI is in Obese range\n"
     ]
    }
   ],
   "source": [
    "user_weight = float(input(\"Please Enter your weight in kilograms:\"))\n",
    "user_height = float(input(\"Please Enter your height in metres:\"))\n",
    "\n",
    "BMI = float(user_weight/(user_height**2))\n",
    "print(\"Your entered weight in kilograms is\",user_weight)\n",
    "print(\"Your entered height in metres is\",user_height)\n",
    "print(\"Your calculated BMI is\",BMI)\n",
    "\n",
    "if (BMI >= 18.5) and (BMI <= 24.9):\n",
    "    print(\"Your BMI is in Normal range\")\n",
    "elif (BMI >= 25.0) and (BMI <= 29.9):\n",
    "    print(\"Your BMI is in Overweight range\")\n",
    "elif (BMI >= 30.0):\n",
    "    print(\"Your BMI is in Obese range\")\n",
    "elif (BMI < 18.5) and (BMI > 0):\n",
    "    print(\"Your BMI is in Underweight range\")\n",
    "else:\n",
    "    print(\"Some of the values you have entered is invalid!!!\")"
   ]
  },
  {
   "cell_type": "markdown",
   "metadata": {},
   "source": [
    "## Question 7"
   ]
  },
  {
   "cell_type": "markdown",
   "metadata": {},
   "source": [
    "**Write a program in which user enters one number and whether it is divisible by 7 (ie. remainder 0 when divide by 7) and is not a multiple of 5.**"
   ]
  },
  {
   "cell_type": "code",
   "execution_count": 29,
   "metadata": {},
   "outputs": [
    {
     "output_type": "stream",
     "name": "stdout",
     "text": [
      "You have entered the number 35\nThe entered number 35 is divisible by 7!!!\nThe entered number 35 is a mutiple of 5!!!\n"
     ]
    }
   ],
   "source": [
    "def get_user_input_number():\n",
    "    user_input = int(input(\"Please Enter a number:\"))\n",
    "    print(\"You have entered the number\",user_input)\n",
    "    return user_input\n",
    "\n",
    "def validate_number(number):\n",
    "    if number:\n",
    "        if number%7 == 0:\n",
    "            print(\"The entered number\",number,\"is divisible by 7!!!\")\n",
    "        else:\n",
    "            print(\"The entered number\",number,\"is not divisible by 7!!!\")\n",
    "        if number%5 != 0:\n",
    "            print(\"The entered number\",number,\"is not a mutiple of 5!!!\")\n",
    "        else:\n",
    "            print(\"The entered number\",number,\"is a mutiple of 5!!!\")\n",
    "\n",
    "\n",
    "number_entered = get_user_input_number()\n",
    "validate_number(number_entered)"
   ]
  }
 ],
 "metadata": {
  "kernelspec": {
   "name": "python3",
   "display_name": "Python 3.7.2 64-bit",
   "metadata": {
    "interpreter": {
     "hash": "8fc596f3a09f0ea550a4ac5e6f3b2e8b40f5a6ae9ff777757e619aee608e583c"
    }
   }
  },
  "language_info": {
   "codemirror_mode": {
    "name": "ipython",
    "version": 3
   },
   "file_extension": ".py",
   "mimetype": "text/x-python",
   "name": "python",
   "nbconvert_exporter": "python",
   "pygments_lexer": "ipython3",
   "version": "3.7.2-final"
  }
 },
 "nbformat": 4,
 "nbformat_minor": 2
}